{
 "cells": [
  {
   "cell_type": "markdown",
   "metadata": {},
   "source": [
    "<h1> Titanic Project--investigating the accuracy of various algorithims and decision trees with different features.\n",
    "<h2> by Tessa de Vries\n",
    "<h3> November 29, 2016"
   ]
  },
  {
   "cell_type": "code",
   "execution_count": 2,
   "metadata": {
    "collapsed": false
   },
   "outputs": [
    {
     "name": "stdout",
     "output_type": "stream",
     "text": [
      "(2201, 4)\n",
      "[[ 1.  1.  1.]\n",
      " [ 1.  1.  1.]\n",
      " [ 1.  1.  1.]\n",
      " ..., \n",
      " [ 0.  1.  0.]\n",
      " [ 0.  1.  0.]\n",
      " [ 0.  1.  0.]]\n",
      "[ 1.  1.  1. ...,  0.  0.  0.]\n"
     ]
    }
   ],
   "source": [
    "#code to import a csv and convert it to a numpy array\n",
    "#import the numpy library\n",
    "import numpy as np\n",
    "#open the file\n",
    "raw_data = open(\"titanic.csv\")\n",
    "# load the CSV file as a numpy matrix\n",
    "dataset = np.loadtxt(raw_data, delimiter=\",\")\n",
    "#'shape' is the dimensions of the matrix\n",
    "print(dataset.shape)\n",
    "# separate the data from the target attributes\n",
    "X = dataset[:,0:3]\n",
    "y = dataset[:,3]\n",
    "print(X)\n",
    "print(y)\n"
   ]
  },
  {
   "cell_type": "markdown",
   "metadata": {},
   "source": [
    "<h2> What is the average accuracy of the following three machine learning algorithms on this dataset: DecisionTree, KNeighbors, RandomForest?"
   ]
  },
  {
   "cell_type": "code",
   "execution_count": 3,
   "metadata": {
    "collapsed": false
   },
   "outputs": [
    {
     "name": "stdout",
     "output_type": "stream",
     "text": [
      "0.791288566243\n"
     ]
    }
   ],
   "source": [
    "from sklearn import datasets\n",
    "import random\n",
    "import statistics\n",
    "\n",
    "from sklearn.cross_validation import train_test_split\n",
    "X_train, X_test, y_train, y_test = train_test_split(X, y, test_size = .25)\n",
    "\n",
    "from sklearn import tree\n",
    "tree_classifier = tree.DecisionTreeClassifier();\n",
    "tree_classifier = tree_classifier.fit(X_train, y_train)\n",
    "tree_predictions = tree_classifier.predict(X_test)\n",
    "\n",
    "from sklearn.metrics import accuracy_score\n",
    "print(accuracy_score(tree_predictions, y_test))"
   ]
  },
  {
   "cell_type": "code",
   "execution_count": 22,
   "metadata": {
    "collapsed": false
   },
   "outputs": [
    {
     "name": "stdout",
     "output_type": "stream",
     "text": [
      "Mean accuracy of DecisionTree:\n",
      "0.788384754991\n"
     ]
    }
   ],
   "source": [
    "DecisionTree= [0.774954627949, 0.80943738657, 0.778584392015, 0.785843920145, 0.793103448276]\n",
    "print(\"Mean accuracy of DecisionTree:\")\n",
    "print(statistics.mean(DecisionTree))\n"
   ]
  },
  {
   "cell_type": "code",
   "execution_count": 5,
   "metadata": {
    "collapsed": false
   },
   "outputs": [
    {
     "name": "stdout",
     "output_type": "stream",
     "text": [
      "0.789473684211\n"
     ]
    }
   ],
   "source": [
    "from sklearn.cross_validation import train_test_split\n",
    "X_train, X_test, y_train, y_test = train_test_split(X, y, test_size = .25)\n",
    "\n",
    "from sklearn import neighbors\n",
    "knn_classifier = neighbors.KNeighborsClassifier()\n",
    "knn_classifier = knn_classifier.fit(X_train, y_train)\n",
    "knn_predictions = knn_classifier.predict(X_test)\n",
    "\n",
    "from sklearn.metrics import accuracy_score\n",
    "print(accuracy_score(knn_predictions, y_test))\n"
   ]
  },
  {
   "cell_type": "code",
   "execution_count": 23,
   "metadata": {
    "collapsed": false
   },
   "outputs": [
    {
     "name": "stdout",
     "output_type": "stream",
     "text": [
      "Mean accuracy of Neighbors:\n",
      "0.7571687840292\n"
     ]
    }
   ],
   "source": [
    "Neighbors= [0.651542649728, 0.787658802178, 0.773139745917, 0.802177858439, 0.771324863884]\n",
    "print(\"Mean accuracy of Neighbors:\")\n",
    "print(statistics.mean(Neighbors))"
   ]
  },
  {
   "cell_type": "code",
   "execution_count": 7,
   "metadata": {
    "collapsed": false
   },
   "outputs": [
    {
     "name": "stdout",
     "output_type": "stream",
     "text": [
      "0.793103448276\n"
     ]
    }
   ],
   "source": [
    "from sklearn.cross_validation import train_test_split\n",
    "X_train, X_test, y_train, y_test = train_test_split(X, y, test_size = .25)\n",
    "\n",
    "from sklearn import ensemble\n",
    "rf_classifier = ensemble.RandomForestClassifier()\n",
    "rf_classifier = rf_classifier.fit(X_train, y_train)\n",
    "rf_predictions = rf_classifier.predict(X_test)\n",
    "\n",
    "from sklearn.metrics import accuracy_score\n",
    "print(accuracy_score(rf_predictions, y_test))\n"
   ]
  },
  {
   "cell_type": "code",
   "execution_count": 8,
   "metadata": {
    "collapsed": false
   },
   "outputs": [
    {
     "name": "stdout",
     "output_type": "stream",
     "text": [
      "Mean accuracy of RandomForest:\n",
      "0.7724137931034\n"
     ]
    }
   ],
   "source": [
    "RandomForest= [0.776769509982, 0.787658802178, 0.764065335753, 0.785843920145, 0.747731397459]\n",
    "print(\"Mean accuracy of RandomForest:\")\n",
    "print(statistics.mean(RandomForest))\n"
   ]
  },
  {
   "cell_type": "markdown",
   "metadata": {},
   "source": [
    "Based off the following code, the Decision Tree algorithm has the highest average accuracy. "
   ]
  },
  {
   "cell_type": "markdown",
   "metadata": {},
   "source": [
    "<h2> Using the most accurate algorithm, predict whether the following imaginary people would have survived:\n",
    "\n",
    "a. An adult male in the 3rd class\n",
    "\n",
    "b. An adult female in 1st class\n",
    "\n",
    "c. A female child in 1st class"
   ]
  },
  {
   "cell_type": "code",
   "execution_count": 9,
   "metadata": {
    "collapsed": false
   },
   "outputs": [
    {
     "name": "stdout",
     "output_type": "stream",
     "text": [
      "[ 0.]\n",
      "[ 1.]\n",
      "[ 1.]\n"
     ]
    }
   ],
   "source": [
    "tree_predictions = tree_classifier.predict([[3, 1, 1]])\n",
    "print(tree_predictions)\n",
    "\n",
    "tree_predictions = tree_classifier.predict([[1, 1, 0]])\n",
    "print(tree_predictions)\n",
    "\n",
    "tree_predictions = tree_classifier.predict([[1, 0, 0]])\n",
    "print(tree_predictions)\n",
    "\n"
   ]
  },
  {
   "cell_type": "markdown",
   "metadata": {},
   "source": [
    "An adult male in the 3rd class would die.\n",
    "An adult female in 1st class would live.\n",
    "A female child in 1st class would live. "
   ]
  },
  {
   "cell_type": "markdown",
   "metadata": {
    "collapsed": true
   },
   "source": [
    "<h2> Which is the most important determining feature in this dataset?"
   ]
  },
  {
   "cell_type": "code",
   "execution_count": 10,
   "metadata": {
    "collapsed": false
   },
   "outputs": [
    {
     "name": "stdout",
     "output_type": "stream",
     "text": [
      "0.713248638838\n"
     ]
    }
   ],
   "source": [
    "import numpy as np\n",
    "raw_data = open(\"titanic.csv\")\n",
    "dataset = np.loadtxt(raw_data, delimiter=\",\")\n",
    "Xclass = dataset[:,0:1]\n",
    "y = dataset[:,3]\n",
    "from sklearn import datasets\n",
    "import random\n",
    "import statistics\n",
    "\n",
    "from sklearn.cross_validation import train_test_split\n",
    "X_train, X_test, y_train, y_test = train_test_split(Xclass, y, test_size = .25)\n",
    "\n",
    "from sklearn import tree\n",
    "tree_classifier = tree.DecisionTreeClassifier();\n",
    "tree_classifier = tree_classifier.fit(X_train, y_train)\n",
    "tree_predictions = tree_classifier.predict(X_test)\n",
    "\n",
    "from sklearn.metrics import accuracy_score\n",
    "print(accuracy_score(tree_predictions, y_test))"
   ]
  },
  {
   "cell_type": "code",
   "execution_count": 11,
   "metadata": {
    "collapsed": false,
    "scrolled": true
   },
   "outputs": [
    {
     "name": "stdout",
     "output_type": "stream",
     "text": [
      "Accuracy of Decision Tree with just the Class Feature:\n",
      "0.7219600725952\n"
     ]
    }
   ],
   "source": [
    "classs= [0.736842105263, 0.709618874773, 0.722323049002, 0.718693284936, 0.722323049002]\n",
    "print(\"Accuracy of Decision Tree with just the Class Feature:\")\n",
    "print(statistics.mean(classs))\n"
   ]
  },
  {
   "cell_type": "code",
   "execution_count": 12,
   "metadata": {
    "collapsed": false
   },
   "outputs": [
    {
     "name": "stdout",
     "output_type": "stream",
     "text": [
      "0.676950998185\n"
     ]
    }
   ],
   "source": [
    "import numpy as np\n",
    "raw_data = open(\"titanic.csv\")\n",
    "dataset = np.loadtxt(raw_data, delimiter=\",\")\n",
    "Xage = dataset[:,1:2]\n",
    "y = dataset[:,3]\n",
    "from sklearn import datasets\n",
    "import random\n",
    "import statistics\n",
    "\n",
    "from sklearn.cross_validation import train_test_split\n",
    "X_train, X_test, y_train, y_test = train_test_split(Xage, y, test_size = .25)\n",
    "\n",
    "from sklearn import tree\n",
    "tree_classifier = tree.DecisionTreeClassifier();\n",
    "tree_classifier = tree_classifier.fit(X_train, y_train)\n",
    "tree_predictions = tree_classifier.predict(X_test)\n",
    "\n",
    "from sklearn.metrics import accuracy_score\n",
    "print(accuracy_score(tree_predictions, y_test))\n",
    "\n"
   ]
  },
  {
   "cell_type": "code",
   "execution_count": 13,
   "metadata": {
    "collapsed": false
   },
   "outputs": [
    {
     "name": "stdout",
     "output_type": "stream",
     "text": [
      "Accuracy of Decision Tree with just the Age Feature:\n",
      "0.6929219600724\n"
     ]
    }
   ],
   "source": [
    "age= [0.698729582577, 0.686025408348, 0.678765880218, 0.720508166969, 0.68058076225]\n",
    "print(\"Accuracy of Decision Tree with just the Age Feature:\")\n",
    "print(statistics.mean(age))"
   ]
  },
  {
   "cell_type": "code",
   "execution_count": 14,
   "metadata": {
    "collapsed": false
   },
   "outputs": [
    {
     "name": "stdout",
     "output_type": "stream",
     "text": [
      "0.773139745917\n"
     ]
    }
   ],
   "source": [
    "import numpy as np\n",
    "raw_data = open(\"titanic.csv\")\n",
    "dataset = np.loadtxt(raw_data, delimiter=\",\")\n",
    "Xsex = dataset[:,2:3]\n",
    "y = dataset[:,3]\n",
    "from sklearn import datasets\n",
    "import random\n",
    "import statistics\n",
    "\n",
    "from sklearn.cross_validation import train_test_split\n",
    "X_train, X_test, y_train, y_test = train_test_split(Xsex, y, test_size = .25)\n",
    "\n",
    "from sklearn import tree\n",
    "tree_classifier = tree.DecisionTreeClassifier();\n",
    "tree_classifier = tree_classifier.fit(X_train, y_train)\n",
    "tree_predictions = tree_classifier.predict(X_test)\n",
    "\n",
    "from sklearn.metrics import accuracy_score\n",
    "print(accuracy_score(tree_predictions, y_test))\n"
   ]
  },
  {
   "cell_type": "code",
   "execution_count": 15,
   "metadata": {
    "collapsed": false
   },
   "outputs": [
    {
     "name": "stdout",
     "output_type": "stream",
     "text": [
      "Accuracy of Decision Tree with just the Sex Feature:\n",
      "0.7793103448278\n"
     ]
    }
   ],
   "source": [
    "sex= [0.780399274047, 0.793103448276, 0.751361161525, 0.787658802178, 0.784029038113]\n",
    "print(\"Accuracy of Decision Tree with just the Sex Feature:\")\n",
    "print(statistics.mean(sex))"
   ]
  },
  {
   "cell_type": "code",
   "execution_count": 16,
   "metadata": {
    "collapsed": false
   },
   "outputs": [
    {
     "name": "stdout",
     "output_type": "stream",
     "text": [
      "0.758620689655\n"
     ]
    }
   ],
   "source": [
    "import numpy as np\n",
    "raw_data = open(\"titanic.csv\")\n",
    "dataset = np.loadtxt(raw_data, delimiter=\",\")\n",
    "Xminusclass = dataset[:,1:3]\n",
    "y = dataset[:,3]\n",
    "from sklearn import datasets\n",
    "import random\n",
    "import statistics\n",
    "\n",
    "from sklearn.cross_validation import train_test_split\n",
    "X_train, X_test, y_train, y_test = train_test_split(Xminusclass, y, test_size = .25)\n",
    "\n",
    "from sklearn import tree\n",
    "tree_classifier = tree.DecisionTreeClassifier();\n",
    "tree_classifier = tree_classifier.fit(X_train, y_train)\n",
    "tree_predictions = tree_classifier.predict(X_test)\n",
    "\n",
    "from sklearn.metrics import accuracy_score\n",
    "print(accuracy_score(tree_predictions, y_test))"
   ]
  },
  {
   "cell_type": "code",
   "execution_count": 17,
   "metadata": {
    "collapsed": false
   },
   "outputs": [
    {
     "name": "stdout",
     "output_type": "stream",
     "text": [
      "Accuracy of Decision Tree without the Class Feature:\n",
      "0.7669691470058\n"
     ]
    }
   ],
   "source": [
    "minusclass= [0.762250453721, 0.767695099819, 0.764065335753, 0.767695099819, 0.773139745917 ]\n",
    "print(\"Accuracy of Decision Tree without the Class Feature:\")\n",
    "print(statistics.mean(minusclass))"
   ]
  },
  {
   "cell_type": "code",
   "execution_count": 18,
   "metadata": {
    "collapsed": false
   },
   "outputs": [
    {
     "name": "stdout",
     "output_type": "stream",
     "text": [
      "0.764065335753\n"
     ]
    }
   ],
   "source": [
    "import numpy as np\n",
    "raw_data = open(\"titanic2.csv\")\n",
    "dataset = np.loadtxt(raw_data, delimiter=\",\")\n",
    "Xminusage = dataset[:,1:3]\n",
    "y = dataset[:,3]\n",
    "from sklearn import datasets\n",
    "import random\n",
    "import statistics\n",
    "\n",
    "from sklearn.cross_validation import train_test_split\n",
    "X_train, X_test, y_train, y_test = train_test_split(Xminusage, y, test_size = .25)\n",
    "\n",
    "from sklearn import tree\n",
    "tree_classifier = tree.DecisionTreeClassifier();\n",
    "tree_classifier = tree_classifier.fit(X_train, y_train)\n",
    "tree_predictions = tree_classifier.predict(X_test)\n",
    "\n",
    "from sklearn.metrics import accuracy_score\n",
    "print(accuracy_score(tree_predictions, y_test))"
   ]
  },
  {
   "cell_type": "code",
   "execution_count": 19,
   "metadata": {
    "collapsed": false
   },
   "outputs": [
    {
     "name": "stdout",
     "output_type": "stream",
     "text": [
      "Accuracy of Decision Tree without the Age Feature:\n",
      "0.7847549909258\n"
     ]
    }
   ],
   "source": [
    "minusage= [0.778584392015, 0.785843920145, 0.767695099819, 0.796733212341, 0.794918330309 ]\n",
    "print(\"Accuracy of Decision Tree without the Age Feature:\")\n",
    "print(statistics.mean(minusage))"
   ]
  },
  {
   "cell_type": "code",
   "execution_count": 20,
   "metadata": {
    "collapsed": false
   },
   "outputs": [
    {
     "name": "stdout",
     "output_type": "stream",
     "text": [
      "0.691470054446\n"
     ]
    }
   ],
   "source": [
    "import numpy as np\n",
    "raw_data = open(\"titanic3.csv\")\n",
    "dataset = np.loadtxt(raw_data, delimiter=\",\")\n",
    "Xminussex = dataset[:,1:3]\n",
    "y = dataset[:,3]\n",
    "from sklearn import datasets\n",
    "import random\n",
    "import statistics\n",
    "\n",
    "from sklearn.cross_validation import train_test_split\n",
    "X_train, X_test, y_train, y_test = train_test_split(Xminussex, y, test_size = .25)\n",
    "\n",
    "from sklearn import tree\n",
    "tree_classifier = tree.DecisionTreeClassifier();\n",
    "tree_classifier = tree_classifier.fit(X_train, y_train)\n",
    "tree_predictions = tree_classifier.predict(X_test)\n",
    "\n",
    "from sklearn.metrics import accuracy_score\n",
    "print(accuracy_score(tree_predictions, y_test))"
   ]
  },
  {
   "cell_type": "code",
   "execution_count": 21,
   "metadata": {
    "collapsed": false
   },
   "outputs": [
    {
     "name": "stdout",
     "output_type": "stream",
     "text": [
      "Accuracy of Decision Tree without the Sex Feature:\n",
      "0.725952813067\n"
     ]
    }
   ],
   "source": [
    "minussex= [0.740471869328, 0.733212341198, 0.736842105263, 0.705989110708, 0.713248638838]\n",
    "print(\"Accuracy of Decision Tree without the Sex Feature:\")\n",
    "print(statistics.mean(minussex))"
   ]
  },
  {
   "cell_type": "markdown",
   "metadata": {},
   "source": [
    "When removing all features besides the single targeted feature (either class, age, or sex), the single feature that produced the highest Decision Tree accuracy was the sex feature at an accuracy of 77.93%. However, the other single feature based Decision Trees produced close accuracies at 72.196% (class) and 69.29% (age). \n",
    "\n",
    "When removing just one feature from the Decision Tree (tree was either class and age, sex and age, or class and sex), the tree that produced the highest Decision Tree accuracy was the tree that disregarded the age feature with an accuracy of 78.475%. However, the other trees had similar accuracy at 72.595% (disregarding sex feature) and 76.697% (disregarding class feature). \n",
    "\n",
    "The average accuracy of the Decision Tree when considering all features was 78.838%. That being said, based off the previous calculations, the decision tree is fairly just as accurate when removing the age feature. And, even more shocking, the decision tree with just the sex feature had a very similar accuracy with a difference of less than 1%. On top of that, the tree without the sex feature had the lowest average accuracy at 72.595%. Therefore, one may conclude that the sex feature is the most determining feature."
   ]
  },
  {
   "cell_type": "markdown",
   "metadata": {},
   "source": [
    "<h2> Write a conclusion - what did you learn overall?  What are you still wondering about?"
   ]
  },
  {
   "cell_type": "markdown",
   "metadata": {
    "collapsed": true
   },
   "source": [
    "Overall I learned that sex was a very important determining characteristic for life or death in the Titanic. This was somewhat a suprise for me as I thought that age would be just as significant in determining life or death. I thought this because in the movie all the children were saved by the rescue boats first, but then again women were saved alongside the children so the sex feature being most important isn't that suprising. \n",
    "\n",
    "I wonder what percentange of all passengers lived. I also still wonder within each feature which percentage lived. For example, in the sex feature I wonder what percent of men lived versus what percent of women lived. And for the age feature, I wonder which percent of adults lived versus what percent of children lived. "
   ]
  },
  {
   "cell_type": "code",
   "execution_count": null,
   "metadata": {
    "collapsed": true
   },
   "outputs": [],
   "source": []
  }
 ],
 "metadata": {
  "anaconda-cloud": {},
  "kernelspec": {
   "display_name": "Python [Root]",
   "language": "python",
   "name": "Python [Root]"
  },
  "language_info": {
   "codemirror_mode": {
    "name": "ipython",
    "version": 3
   },
   "file_extension": ".py",
   "mimetype": "text/x-python",
   "name": "python",
   "nbconvert_exporter": "python",
   "pygments_lexer": "ipython3",
   "version": "3.5.2"
  }
 },
 "nbformat": 4,
 "nbformat_minor": 0
}
